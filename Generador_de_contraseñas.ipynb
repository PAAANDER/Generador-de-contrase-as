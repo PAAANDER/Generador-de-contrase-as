{
  "nbformat": 4,
  "nbformat_minor": 0,
  "metadata": {
    "colab": {
      "provenance": [],
      "authorship_tag": "ABX9TyMrPn5VbYMCUCvFWVRbv1PP",
      "include_colab_link": true
    },
    "kernelspec": {
      "name": "python3",
      "display_name": "Python 3"
    },
    "language_info": {
      "name": "python"
    }
  },
  "cells": [
    {
      "cell_type": "markdown",
      "metadata": {
        "id": "view-in-github",
        "colab_type": "text"
      },
      "source": [
        "<a href=\"https://colab.research.google.com/github/PAAANDER/Generador-de-contrase-as/blob/main/Generador_de_contrase%C3%B1as.ipynb\" target=\"_parent\"><img src=\"https://colab.research.google.com/assets/colab-badge.svg\" alt=\"Open In Colab\"/></a>"
      ]
    },
    {
      "cell_type": "code",
      "execution_count": 1,
      "metadata": {
        "colab": {
          "base_uri": "https://localhost:8080/"
        },
        "id": "HT4YETzaXosH",
        "outputId": "7af55cec-1b88-48f8-b416-9e93bb587a89"
      },
      "outputs": [
        {
          "output_type": "stream",
          "name": "stdout",
          "text": [
            "Ingresa la longitud de la contraseña: 7\n",
            "Contraseña generada: {b1yR}]\n"
          ]
        }
      ],
      "source": [
        "import random\n",
        "import string\n",
        "\n",
        "LETRAS_MAYUSCULAS = string.ascii_uppercase\n",
        "LETRAS_MINUSCULAS = string.ascii_lowercase\n",
        "DIGITOS = string.digits\n",
        "SIMBOLOS = string.punctuation\n",
        "\n",
        "def generar_caracteres(conjunto):\n",
        "    return ''.join(random.choice(conjunto) for _ in range(1))\n",
        "\n",
        "def generar_contrasena(longitud):\n",
        "    conjunto_total = LETRAS_MAYUSCULAS + LETRAS_MINUSCULAS + DIGITOS + SIMBOLOS\n",
        "    contrasena = ''.join(generar_caracteres(conjunto_total) for _ in range(longitud))\n",
        "    return contrasena\n",
        "\n",
        "\n",
        "while True:\n",
        "    try:\n",
        "        longitud = int(input(\"Ingresa la longitud de la contraseña: \"))\n",
        "        if longitud > 0:\n",
        "            break\n",
        "        else:\n",
        "            print(\"La longitud debe ser mayor que cero. Intenta de nuevo.\")\n",
        "    except ValueError:\n",
        "        print(\"Por favor, ingresa un número válido.\")\n",
        "\n",
        "\n",
        "contrasena_generada = generar_contrasena(longitud)\n",
        "print(\"Contraseña generada:\", contrasena_generada)"
      ]
    }
  ]
}